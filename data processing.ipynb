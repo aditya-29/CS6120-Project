{
 "cells": [
  {
   "cell_type": "markdown",
   "metadata": {},
   "source": [
    "# Load the Data:\n",
    "- https://github.com/wuhan-1222/ASAG/blob/main/ASAG%20Method/dataset/NorthTexasDataset/expand.txt\n",
    "- https://github.com/Ganesamanian/Computer-Assisted-Short-Answer-Grading-with-Rubrics-using-Active-Learning/blob/master/Dataset/mohler_joined.csv"
   ]
  },
  {
   "cell_type": "code",
   "execution_count": 87,
   "metadata": {},
   "outputs": [
    {
     "data": {
      "text/html": [
       "<div>\n",
       "<style scoped>\n",
       "    .dataframe tbody tr th:only-of-type {\n",
       "        vertical-align: middle;\n",
       "    }\n",
       "\n",
       "    .dataframe tbody tr th {\n",
       "        vertical-align: top;\n",
       "    }\n",
       "\n",
       "    .dataframe thead th {\n",
       "        text-align: right;\n",
       "    }\n",
       "</style>\n",
       "<table border=\"1\" class=\"dataframe\">\n",
       "  <thead>\n",
       "    <tr style=\"text-align: right;\">\n",
       "      <th></th>\n",
       "      <th>id</th>\n",
       "      <th>question</th>\n",
       "      <th>refanswer</th>\n",
       "      <th>answer</th>\n",
       "      <th>score_me</th>\n",
       "      <th>score_other</th>\n",
       "      <th>score_avg</th>\n",
       "    </tr>\n",
       "  </thead>\n",
       "  <tbody>\n",
       "    <tr>\n",
       "      <th>0</th>\n",
       "      <td>1.1</td>\n",
       "      <td>What is the role of a prototype program in pro...</td>\n",
       "      <td>To simulate the behaviour of portions of the d...</td>\n",
       "      <td>High risk problems are address in the prototyp...</td>\n",
       "      <td>4.0</td>\n",
       "      <td>3.0</td>\n",
       "      <td>3.5</td>\n",
       "    </tr>\n",
       "    <tr>\n",
       "      <th>1</th>\n",
       "      <td>1.1</td>\n",
       "      <td>What is the role of a prototype program in pro...</td>\n",
       "      <td>To simulate the behaviour of portions of the d...</td>\n",
       "      <td>To simulate portions of the desired final prod...</td>\n",
       "      <td>5.0</td>\n",
       "      <td>5.0</td>\n",
       "      <td>5.0</td>\n",
       "    </tr>\n",
       "    <tr>\n",
       "      <th>2</th>\n",
       "      <td>1.1</td>\n",
       "      <td>What is the role of a prototype program in pro...</td>\n",
       "      <td>To simulate the behaviour of portions of the d...</td>\n",
       "      <td>A prototype program simulates the behaviors of...</td>\n",
       "      <td>5.0</td>\n",
       "      <td>3.0</td>\n",
       "      <td>4.0</td>\n",
       "    </tr>\n",
       "    <tr>\n",
       "      <th>3</th>\n",
       "      <td>1.1</td>\n",
       "      <td>What is the role of a prototype program in pro...</td>\n",
       "      <td>To simulate the behaviour of portions of the d...</td>\n",
       "      <td>Defined in the Specification phase a prototype...</td>\n",
       "      <td>5.0</td>\n",
       "      <td>5.0</td>\n",
       "      <td>5.0</td>\n",
       "    </tr>\n",
       "    <tr>\n",
       "      <th>4</th>\n",
       "      <td>1.1</td>\n",
       "      <td>What is the role of a prototype program in pro...</td>\n",
       "      <td>To simulate the behaviour of portions of the d...</td>\n",
       "      <td>It is used to let the users have a first idea ...</td>\n",
       "      <td>3.0</td>\n",
       "      <td>3.0</td>\n",
       "      <td>3.0</td>\n",
       "    </tr>\n",
       "  </tbody>\n",
       "</table>\n",
       "</div>"
      ],
      "text/plain": [
       "    id                                           question  \\\n",
       "0  1.1  What is the role of a prototype program in pro...   \n",
       "1  1.1  What is the role of a prototype program in pro...   \n",
       "2  1.1  What is the role of a prototype program in pro...   \n",
       "3  1.1  What is the role of a prototype program in pro...   \n",
       "4  1.1  What is the role of a prototype program in pro...   \n",
       "\n",
       "                                           refanswer  \\\n",
       "0  To simulate the behaviour of portions of the d...   \n",
       "1  To simulate the behaviour of portions of the d...   \n",
       "2  To simulate the behaviour of portions of the d...   \n",
       "3  To simulate the behaviour of portions of the d...   \n",
       "4  To simulate the behaviour of portions of the d...   \n",
       "\n",
       "                                              answer  score_me  score_other  \\\n",
       "0  High risk problems are address in the prototyp...       4.0          3.0   \n",
       "1  To simulate portions of the desired final prod...       5.0          5.0   \n",
       "2  A prototype program simulates the behaviors of...       5.0          3.0   \n",
       "3  Defined in the Specification phase a prototype...       5.0          5.0   \n",
       "4  It is used to let the users have a first idea ...       3.0          3.0   \n",
       "\n",
       "   score_avg  \n",
       "0        3.5  \n",
       "1        5.0  \n",
       "2        4.0  \n",
       "3        5.0  \n",
       "4        3.0  "
      ]
     },
     "metadata": {},
     "output_type": "display_data"
    },
    {
     "data": {
      "text/html": [
       "<div>\n",
       "<style scoped>\n",
       "    .dataframe tbody tr th:only-of-type {\n",
       "        vertical-align: middle;\n",
       "    }\n",
       "\n",
       "    .dataframe tbody tr th {\n",
       "        vertical-align: top;\n",
       "    }\n",
       "\n",
       "    .dataframe thead th {\n",
       "        text-align: right;\n",
       "    }\n",
       "</style>\n",
       "<table border=\"1\" class=\"dataframe\">\n",
       "  <thead>\n",
       "    <tr style=\"text-align: right;\">\n",
       "      <th></th>\n",
       "      <th>question</th>\n",
       "      <th>refanswer</th>\n",
       "      <th>answer</th>\n",
       "      <th>score_avg</th>\n",
       "    </tr>\n",
       "  </thead>\n",
       "  <tbody>\n",
       "    <tr>\n",
       "      <th>0</th>\n",
       "      <td>What is the role of a prototype program in pro...</td>\n",
       "      <td>To simulate the behaviour of portions of the d...</td>\n",
       "      <td>High risk problems are address in the prototyp...</td>\n",
       "      <td>3.5</td>\n",
       "    </tr>\n",
       "    <tr>\n",
       "      <th>1</th>\n",
       "      <td>What is the role of a prototype program in pro...</td>\n",
       "      <td>To simulate the behaviour of portions of the d...</td>\n",
       "      <td>A prototype program simulates the behaviors of...</td>\n",
       "      <td>4.0</td>\n",
       "    </tr>\n",
       "    <tr>\n",
       "      <th>2</th>\n",
       "      <td>What is the role of a prototype program in pro...</td>\n",
       "      <td>To simulate the behaviour of portions of the d...</td>\n",
       "      <td>It is used to let the users have a first idea ...</td>\n",
       "      <td>3.0</td>\n",
       "    </tr>\n",
       "    <tr>\n",
       "      <th>3</th>\n",
       "      <td>What is the role of a prototype program in pro...</td>\n",
       "      <td>To simulate the behaviour of portions of the d...</td>\n",
       "      <td>To find problem and errors in a program before...</td>\n",
       "      <td>2.0</td>\n",
       "    </tr>\n",
       "    <tr>\n",
       "      <th>4</th>\n",
       "      <td>What is the role of a prototype program in pro...</td>\n",
       "      <td>To simulate the behaviour of portions of the d...</td>\n",
       "      <td>To address major issues in the creation of the...</td>\n",
       "      <td>2.5</td>\n",
       "    </tr>\n",
       "  </tbody>\n",
       "</table>\n",
       "</div>"
      ],
      "text/plain": [
       "                                            question  \\\n",
       "0  What is the role of a prototype program in pro...   \n",
       "1  What is the role of a prototype program in pro...   \n",
       "2  What is the role of a prototype program in pro...   \n",
       "3  What is the role of a prototype program in pro...   \n",
       "4  What is the role of a prototype program in pro...   \n",
       "\n",
       "                                           refanswer  \\\n",
       "0  To simulate the behaviour of portions of the d...   \n",
       "1  To simulate the behaviour of portions of the d...   \n",
       "2  To simulate the behaviour of portions of the d...   \n",
       "3  To simulate the behaviour of portions of the d...   \n",
       "4  To simulate the behaviour of portions of the d...   \n",
       "\n",
       "                                              answer  score_avg  \n",
       "0  High risk problems are address in the prototyp...        3.5  \n",
       "1  A prototype program simulates the behaviors of...        4.0  \n",
       "2  It is used to let the users have a first idea ...        3.0  \n",
       "3  To find problem and errors in a program before...        2.0  \n",
       "4  To address major issues in the creation of the...        2.5  "
      ]
     },
     "metadata": {},
     "output_type": "display_data"
    }
   ],
   "source": [
    "import pandas as pd\n",
    "import os\n",
    "\n",
    "mohler_joined_path = \"./mohler_joined.csv\"\n",
    "expand_path = \"./expand.txt\"\n",
    "\n",
    "if not os.path.exists(mohler_joined_path):\n",
    "    raise Exception(\"File not found error : mohler_joined.csv\")\n",
    "\n",
    "if not os.path.exists(expand_path):\n",
    "    raise Exception(\"File not found : expand.txt\")\n",
    "\n",
    "\n",
    "mohler_df = pd.read_csv(mohler_joined_path, index_col=0)\n",
    "expand_df = pd.read_csv(expand_path, header=None, sep = \",\", names=[\"question\", \"refanswer\", \"answer\", \"score_avg\"])\n",
    "\n",
    "display(mohler_df.head())\n",
    "display(expand_df.head())\n"
   ]
  },
  {
   "cell_type": "markdown",
   "metadata": {},
   "source": [
    "# EDA - Mohler DF"
   ]
  },
  {
   "cell_type": "code",
   "execution_count": 88,
   "metadata": {},
   "outputs": [],
   "source": [
    "mohler_df_cleaned = mohler_df.copy()"
   ]
  },
  {
   "cell_type": "markdown",
   "metadata": {},
   "source": [
    "### 1) Find the total number of unique questions in the dataset\n",
    "- Number of unique ID is not as same as number of question\n",
    "> To solve this we can re index the id"
   ]
  },
  {
   "cell_type": "code",
   "execution_count": 89,
   "metadata": {},
   "outputs": [
    {
     "name": "stdout",
     "output_type": "stream",
     "text": [
      "Total number of unique id in the data :  81\n",
      "Total number of unique questions in the data :  79\n",
      "Total number of unique id in the data After Factorize :  79\n"
     ]
    }
   ],
   "source": [
    "print(\"Total number of unique id in the data : \", mohler_df_cleaned[\"id\"].nunique())\n",
    "print(\"Total number of unique questions in the data : \", mohler_df_cleaned[\"question\"].nunique())\n",
    "\n",
    "mohler_df_cleaned[\"id\"] = pd.factorize(mohler_df_cleaned[\"question\"])[0]\n",
    "\n",
    "print(\"Total number of unique id in the data After Factorize : \", mohler_df_cleaned[\"id\"].nunique())\n",
    "\n",
    "\n"
   ]
  },
  {
   "cell_type": "markdown",
   "metadata": {},
   "source": [
    "### 2) Distribution of frequency of questions\n",
    "- no need to clip any question as most of the frequency are comparable"
   ]
  },
  {
   "cell_type": "code",
   "execution_count": 90,
   "metadata": {},
   "outputs": [
    {
     "data": {
      "image/png": "[encoded data removed]",
      "text/plain": [
       "<Figure size 1500x300 with 1 Axes>"
      ]
     },
     "metadata": {},
     "output_type": "display_data"
    }
   ],
   "source": [
    "import matplotlib.pyplot as plt\n",
    "\n",
    "plt.figure(figsize=(15,3))\n",
    "mohler_df_cleaned[\"id\"].value_counts().plot(kind=\"bar\", title = \"Frequency of Questions based on ID\", xlabel=\"ID\", ylabel=\"Frequency\")\n",
    "plt.tight_layout()\n",
    "plt.show()\n"
   ]
  },
  {
   "cell_type": "markdown",
   "metadata": {},
   "source": [
    "### 3) Frequency of the scores"
   ]
  },
  {
   "cell_type": "code",
   "execution_count": 93,
   "metadata": {},
   "outputs": [
    {
     "data": {
      "image/png": "[encoded data removed]",
      "text/plain": [
       "<Figure size 640x480 with 1 Axes>"
      ]
     },
     "metadata": {},
     "output_type": "display_data"
    },
    {
     "data": {
      "image/png": "[encoded data removed]",
      "text/plain": [
       "<Figure size 640x480 with 1 Axes>"
      ]
     },
     "metadata": {},
     "output_type": "display_data"
    }
   ],
   "source": [
    "mohler_df_cleaned[\"score_avg\"].value_counts().plot(kind=\"bar\", title=\"Frequency of Scores\", ylabel=\"frequency\")\n",
    "plt.show()\n",
    "\n",
    "mohler_df_cleaned[\"score_avg\"] = mohler_df_cleaned[\"score_avg\"].apply(lambda x : round(x*2) / 2)\n",
    "\n",
    "mohler_df_cleaned[\"score_avg\"].value_counts().plot(kind=\"bar\", title=\"Frequency of Scores After Rounding\", ylabel=\"frequency\")\n",
    "plt.show()\n",
    "\n"
   ]
  },
  {
   "cell_type": "markdown",
   "metadata": {},
   "source": [
    "### 4) remove the score_me and score_other "
   ]
  },
  {
   "cell_type": "code",
   "execution_count": 94,
   "metadata": {},
   "outputs": [
    {
     "data": {
      "text/html": [
       "<div>\n",
       "<style scoped>\n",
       "    .dataframe tbody tr th:only-of-type {\n",
       "        vertical-align: middle;\n",
       "    }\n",
       "\n",
       "    .dataframe tbody tr th {\n",
       "        vertical-align: top;\n",
       "    }\n",
       "\n",
       "    .dataframe thead th {\n",
       "        text-align: right;\n",
       "    }\n",
       "</style>\n",
       "<table border=\"1\" class=\"dataframe\">\n",
       "  <thead>\n",
       "    <tr style=\"text-align: right;\">\n",
       "      <th></th>\n",
       "      <th>id</th>\n",
       "      <th>question</th>\n",
       "      <th>refanswer</th>\n",
       "      <th>answer</th>\n",
       "      <th>score_avg</th>\n",
       "    </tr>\n",
       "  </thead>\n",
       "  <tbody>\n",
       "    <tr>\n",
       "      <th>0</th>\n",
       "      <td>0</td>\n",
       "      <td>What is the role of a prototype program in pro...</td>\n",
       "      <td>To simulate the behaviour of portions of the d...</td>\n",
       "      <td>High risk problems are address in the prototyp...</td>\n",
       "      <td>3.5</td>\n",
       "    </tr>\n",
       "    <tr>\n",
       "      <th>1</th>\n",
       "      <td>0</td>\n",
       "      <td>What is the role of a prototype program in pro...</td>\n",
       "      <td>To simulate the behaviour of portions of the d...</td>\n",
       "      <td>To simulate portions of the desired final prod...</td>\n",
       "      <td>5.0</td>\n",
       "    </tr>\n",
       "    <tr>\n",
       "      <th>2</th>\n",
       "      <td>0</td>\n",
       "      <td>What is the role of a prototype program in pro...</td>\n",
       "      <td>To simulate the behaviour of portions of the d...</td>\n",
       "      <td>A prototype program simulates the behaviors of...</td>\n",
       "      <td>4.0</td>\n",
       "    </tr>\n",
       "    <tr>\n",
       "      <th>3</th>\n",
       "      <td>0</td>\n",
       "      <td>What is the role of a prototype program in pro...</td>\n",
       "      <td>To simulate the behaviour of portions of the d...</td>\n",
       "      <td>Defined in the Specification phase a prototype...</td>\n",
       "      <td>5.0</td>\n",
       "    </tr>\n",
       "    <tr>\n",
       "      <th>4</th>\n",
       "      <td>0</td>\n",
       "      <td>What is the role of a prototype program in pro...</td>\n",
       "      <td>To simulate the behaviour of portions of the d...</td>\n",
       "      <td>It is used to let the users have a first idea ...</td>\n",
       "      <td>3.0</td>\n",
       "    </tr>\n",
       "  </tbody>\n",
       "</table>\n",
       "</div>"
      ],
      "text/plain": [
       "   id                                           question  \\\n",
       "0   0  What is the role of a prototype program in pro...   \n",
       "1   0  What is the role of a prototype program in pro...   \n",
       "2   0  What is the role of a prototype program in pro...   \n",
       "3   0  What is the role of a prototype program in pro...   \n",
       "4   0  What is the role of a prototype program in pro...   \n",
       "\n",
       "                                           refanswer  \\\n",
       "0  To simulate the behaviour of portions of the d...   \n",
       "1  To simulate the behaviour of portions of the d...   \n",
       "2  To simulate the behaviour of portions of the d...   \n",
       "3  To simulate the behaviour of portions of the d...   \n",
       "4  To simulate the behaviour of portions of the d...   \n",
       "\n",
       "                                              answer  score_avg  \n",
       "0  High risk problems are address in the prototyp...        3.5  \n",
       "1  To simulate portions of the desired final prod...        5.0  \n",
       "2  A prototype program simulates the behaviors of...        4.0  \n",
       "3  Defined in the Specification phase a prototype...        5.0  \n",
       "4  It is used to let the users have a first idea ...        3.0  "
      ]
     },
     "execution_count": 94,
     "metadata": {},
     "output_type": "execute_result"
    }
   ],
   "source": [
    "mohler_df_cleaned = mohler_df_cleaned.drop(columns=[\"score_me\", \"score_other\"])\n",
    "mohler_df_cleaned.head()"
   ]
  },
  {
   "cell_type": "markdown",
   "metadata": {},
   "source": [
    "# EDA - expand DF"
   ]
  },
  {
   "cell_type": "code",
   "execution_count": 96,
   "metadata": {},
   "outputs": [],
   "source": [
    "expand_df_cleaned = expand_df.copy()"
   ]
  },
  {
   "cell_type": "markdown",
   "metadata": {},
   "source": [
    "### 1) Find unique number of questions and add ID"
   ]
  },
  {
   "cell_type": "code",
   "execution_count": 98,
   "metadata": {},
   "outputs": [
    {
     "name": "stdout",
     "output_type": "stream",
     "text": [
      "Total number of unique questions in the data :  85\n"
     ]
    },
    {
     "data": {
      "text/html": [
       "<div>\n",
       "<style scoped>\n",
       "    .dataframe tbody tr th:only-of-type {\n",
       "        vertical-align: middle;\n",
       "    }\n",
       "\n",
       "    .dataframe tbody tr th {\n",
       "        vertical-align: top;\n",
       "    }\n",
       "\n",
       "    .dataframe thead th {\n",
       "        text-align: right;\n",
       "    }\n",
       "</style>\n",
       "<table border=\"1\" class=\"dataframe\">\n",
       "  <thead>\n",
       "    <tr style=\"text-align: right;\">\n",
       "      <th></th>\n",
       "      <th>question</th>\n",
       "      <th>refanswer</th>\n",
       "      <th>answer</th>\n",
       "      <th>score_avg</th>\n",
       "      <th>id</th>\n",
       "    </tr>\n",
       "  </thead>\n",
       "  <tbody>\n",
       "    <tr>\n",
       "      <th>0</th>\n",
       "      <td>What is the role of a prototype program in pro...</td>\n",
       "      <td>To simulate the behaviour of portions of the d...</td>\n",
       "      <td>High risk problems are address in the prototyp...</td>\n",
       "      <td>3.5</td>\n",
       "      <td>0</td>\n",
       "    </tr>\n",
       "    <tr>\n",
       "      <th>1</th>\n",
       "      <td>What is the role of a prototype program in pro...</td>\n",
       "      <td>To simulate the behaviour of portions of the d...</td>\n",
       "      <td>A prototype program simulates the behaviors of...</td>\n",
       "      <td>4.0</td>\n",
       "      <td>0</td>\n",
       "    </tr>\n",
       "    <tr>\n",
       "      <th>2</th>\n",
       "      <td>What is the role of a prototype program in pro...</td>\n",
       "      <td>To simulate the behaviour of portions of the d...</td>\n",
       "      <td>It is used to let the users have a first idea ...</td>\n",
       "      <td>3.0</td>\n",
       "      <td>0</td>\n",
       "    </tr>\n",
       "    <tr>\n",
       "      <th>3</th>\n",
       "      <td>What is the role of a prototype program in pro...</td>\n",
       "      <td>To simulate the behaviour of portions of the d...</td>\n",
       "      <td>To find problem and errors in a program before...</td>\n",
       "      <td>2.0</td>\n",
       "      <td>0</td>\n",
       "    </tr>\n",
       "    <tr>\n",
       "      <th>4</th>\n",
       "      <td>What is the role of a prototype program in pro...</td>\n",
       "      <td>To simulate the behaviour of portions of the d...</td>\n",
       "      <td>To address major issues in the creation of the...</td>\n",
       "      <td>2.5</td>\n",
       "      <td>0</td>\n",
       "    </tr>\n",
       "  </tbody>\n",
       "</table>\n",
       "</div>"
      ],
      "text/plain": [
       "                                            question  \\\n",
       "0  What is the role of a prototype program in pro...   \n",
       "1  What is the role of a prototype program in pro...   \n",
       "2  What is the role of a prototype program in pro...   \n",
       "3  What is the role of a prototype program in pro...   \n",
       "4  What is the role of a prototype program in pro...   \n",
       "\n",
       "                                           refanswer  \\\n",
       "0  To simulate the behaviour of portions of the d...   \n",
       "1  To simulate the behaviour of portions of the d...   \n",
       "2  To simulate the behaviour of portions of the d...   \n",
       "3  To simulate the behaviour of portions of the d...   \n",
       "4  To simulate the behaviour of portions of the d...   \n",
       "\n",
       "                                              answer  score_avg  id  \n",
       "0  High risk problems are address in the prototyp...        3.5   0  \n",
       "1  A prototype program simulates the behaviors of...        4.0   0  \n",
       "2  It is used to let the users have a first idea ...        3.0   0  \n",
       "3  To find problem and errors in a program before...        2.0   0  \n",
       "4  To address major issues in the creation of the...        2.5   0  "
      ]
     },
     "execution_count": 98,
     "metadata": {},
     "output_type": "execute_result"
    }
   ],
   "source": [
    "print(\"Total number of unique questions in the data : \", expand_df_cleaned[\"question\"].nunique())\n",
    "\n",
    "expand_df_cleaned[\"id\"] = pd.factorize(expand_df_cleaned[\"question\"])[0]\n",
    "expand_df_cleaned.head()"
   ]
  },
  {
   "cell_type": "markdown",
   "metadata": {},
   "source": [
    "### 2) Distribution of frequency of questions\n"
   ]
  },
  {
   "cell_type": "code",
   "execution_count": 102,
   "metadata": {},
   "outputs": [
    {
     "data": {
      "image/png": "[encoded data removed]",
      "text/plain": [
       "<Figure size 1500x500 with 1 Axes>"
      ]
     },
     "metadata": {},
     "output_type": "display_data"
    }
   ],
   "source": [
    "plt.figure(figsize=(15, 5))\n",
    "expand_df_cleaned[\"id\"].value_counts().plot(kind=\"bar\", xlabel=\"id\", ylabel=\"frequency\", title=\"frequency of questions based on id\")\n",
    "plt.tight_layout()\n",
    "plt.show()"
   ]
  },
  {
   "cell_type": "markdown",
   "metadata": {},
   "source": [
    "### 3) Distribution of scores\n",
    "- There are more 5.0 scores"
   ]
  },
  {
   "cell_type": "code",
   "execution_count": 105,
   "metadata": {},
   "outputs": [
    {
     "data": {
      "image/png": "[encoded data removed]",
      "text/plain": [
       "<Figure size 640x480 with 1 Axes>"
      ]
     },
     "metadata": {},
     "output_type": "display_data"
    },
    {
     "data": {
      "image/png": "[encoded data removed]",
      "text/plain": [
       "<Figure size 640x480 with 1 Axes>"
      ]
     },
     "metadata": {},
     "output_type": "display_data"
    }
   ],
   "source": [
    "expand_df_cleaned[\"score_avg\"].value_counts().plot(kind=\"bar\", xlabel=\"scores\", ylabel=\"frequency\", title=\"frequency of scores\")\n",
    "plt.show()\n",
    "expand_df_cleaned[\"score_avg\"] = expand_df_cleaned[\"score_avg\"].apply(lambda x : round(x*2) / 2)\n",
    "\n",
    "expand_df_cleaned[\"score_avg\"].value_counts().plot(kind=\"bar\", title=\"Frequency of Scores After Rounding\", ylabel=\"frequency\")\n",
    "plt.show()\n"
   ]
  },
  {
   "cell_type": "markdown",
   "metadata": {},
   "source": [
    "# Combining the dataset"
   ]
  },
  {
   "cell_type": "code",
   "execution_count": 110,
   "metadata": {},
   "outputs": [
    {
     "name": "stdout",
     "output_type": "stream",
     "text": [
      "total number of unique questions in the data :  164\n",
      "total number of rows in the data :  5919\n"
     ]
    },
    {
     "data": {
      "text/html": [
       "<div>\n",
       "<style scoped>\n",
       "    .dataframe tbody tr th:only-of-type {\n",
       "        vertical-align: middle;\n",
       "    }\n",
       "\n",
       "    .dataframe tbody tr th {\n",
       "        vertical-align: top;\n",
       "    }\n",
       "\n",
       "    .dataframe thead th {\n",
       "        text-align: right;\n",
       "    }\n",
       "</style>\n",
       "<table border=\"1\" class=\"dataframe\">\n",
       "  <thead>\n",
       "    <tr style=\"text-align: right;\">\n",
       "      <th></th>\n",
       "      <th>id</th>\n",
       "      <th>question</th>\n",
       "      <th>refanswer</th>\n",
       "      <th>answer</th>\n",
       "      <th>score_avg</th>\n",
       "    </tr>\n",
       "  </thead>\n",
       "  <tbody>\n",
       "    <tr>\n",
       "      <th>0</th>\n",
       "      <td>0</td>\n",
       "      <td>What is the role of a prototype program in pro...</td>\n",
       "      <td>To simulate the behaviour of portions of the d...</td>\n",
       "      <td>High risk problems are address in the prototyp...</td>\n",
       "      <td>3.5</td>\n",
       "    </tr>\n",
       "    <tr>\n",
       "      <th>1</th>\n",
       "      <td>0</td>\n",
       "      <td>What is the role of a prototype program in pro...</td>\n",
       "      <td>To simulate the behaviour of portions of the d...</td>\n",
       "      <td>To simulate portions of the desired final prod...</td>\n",
       "      <td>5.0</td>\n",
       "    </tr>\n",
       "    <tr>\n",
       "      <th>2</th>\n",
       "      <td>0</td>\n",
       "      <td>What is the role of a prototype program in pro...</td>\n",
       "      <td>To simulate the behaviour of portions of the d...</td>\n",
       "      <td>A prototype program simulates the behaviors of...</td>\n",
       "      <td>4.0</td>\n",
       "    </tr>\n",
       "    <tr>\n",
       "      <th>3</th>\n",
       "      <td>0</td>\n",
       "      <td>What is the role of a prototype program in pro...</td>\n",
       "      <td>To simulate the behaviour of portions of the d...</td>\n",
       "      <td>Defined in the Specification phase a prototype...</td>\n",
       "      <td>5.0</td>\n",
       "    </tr>\n",
       "    <tr>\n",
       "      <th>4</th>\n",
       "      <td>0</td>\n",
       "      <td>What is the role of a prototype program in pro...</td>\n",
       "      <td>To simulate the behaviour of portions of the d...</td>\n",
       "      <td>It is used to let the users have a first idea ...</td>\n",
       "      <td>3.0</td>\n",
       "    </tr>\n",
       "  </tbody>\n",
       "</table>\n",
       "</div>"
      ],
      "text/plain": [
       "   id                                           question  \\\n",
       "0   0  What is the role of a prototype program in pro...   \n",
       "1   0  What is the role of a prototype program in pro...   \n",
       "2   0  What is the role of a prototype program in pro...   \n",
       "3   0  What is the role of a prototype program in pro...   \n",
       "4   0  What is the role of a prototype program in pro...   \n",
       "\n",
       "                                           refanswer  \\\n",
       "0  To simulate the behaviour of portions of the d...   \n",
       "1  To simulate the behaviour of portions of the d...   \n",
       "2  To simulate the behaviour of portions of the d...   \n",
       "3  To simulate the behaviour of portions of the d...   \n",
       "4  To simulate the behaviour of portions of the d...   \n",
       "\n",
       "                                              answer  score_avg  \n",
       "0  High risk problems are address in the prototyp...        3.5  \n",
       "1  To simulate portions of the desired final prod...        5.0  \n",
       "2  A prototype program simulates the behaviors of...        4.0  \n",
       "3  Defined in the Specification phase a prototype...        5.0  \n",
       "4  It is used to let the users have a first idea ...        3.0  "
      ]
     },
     "execution_count": 110,
     "metadata": {},
     "output_type": "execute_result"
    }
   ],
   "source": [
    "final_df = pd.concat([mohler_df_cleaned, expand_df_cleaned])\n",
    "\n",
    "print(\"total number of unique questions in the data : \",final_df[\"question\"].nunique())\n",
    "print(\"total number of rows in the data : \", len(final_df))\n",
    "# refactorize\n",
    "final_df[\"id\"] = pd.factorize(final_df[\"question\"])[0]\n",
    "final_df.head()"
   ]
  },
  {
   "cell_type": "markdown",
   "metadata": {},
   "source": [
    "# Save"
   ]
  },
  {
   "cell_type": "code",
   "execution_count": 111,
   "metadata": {},
   "outputs": [],
   "source": [
    "final_df.to_csv('data.csv', index=False)\n"
   ]
  },
  {
   "cell_type": "code",
   "execution_count": 116,
   "metadata": {},
   "outputs": [
    {
     "data": {
      "text/html": [
       "<div>\n",
       "<style scoped>\n",
       "    .dataframe tbody tr th:only-of-type {\n",
       "        vertical-align: middle;\n",
       "    }\n",
       "\n",
       "    .dataframe tbody tr th {\n",
       "        vertical-align: top;\n",
       "    }\n",
       "\n",
       "    .dataframe thead th {\n",
       "        text-align: right;\n",
       "    }\n",
       "</style>\n",
       "<table border=\"1\" class=\"dataframe\">\n",
       "  <thead>\n",
       "    <tr style=\"text-align: right;\">\n",
       "      <th></th>\n",
       "      <th>id</th>\n",
       "      <th>question</th>\n",
       "      <th>refanswer</th>\n",
       "      <th>answer</th>\n",
       "      <th>score_avg</th>\n",
       "    </tr>\n",
       "  </thead>\n",
       "  <tbody>\n",
       "    <tr>\n",
       "      <th>0</th>\n",
       "      <td>0</td>\n",
       "      <td>What is the role of a prototype program in pro...</td>\n",
       "      <td>To simulate the behaviour of portions of the d...</td>\n",
       "      <td>High risk problems are address in the prototyp...</td>\n",
       "      <td>3.5</td>\n",
       "    </tr>\n",
       "    <tr>\n",
       "      <th>1</th>\n",
       "      <td>0</td>\n",
       "      <td>What is the role of a prototype program in pro...</td>\n",
       "      <td>To simulate the behaviour of portions of the d...</td>\n",
       "      <td>To simulate portions of the desired final prod...</td>\n",
       "      <td>5.0</td>\n",
       "    </tr>\n",
       "    <tr>\n",
       "      <th>2</th>\n",
       "      <td>0</td>\n",
       "      <td>What is the role of a prototype program in pro...</td>\n",
       "      <td>To simulate the behaviour of portions of the d...</td>\n",
       "      <td>A prototype program simulates the behaviors of...</td>\n",
       "      <td>4.0</td>\n",
       "    </tr>\n",
       "    <tr>\n",
       "      <th>3</th>\n",
       "      <td>0</td>\n",
       "      <td>What is the role of a prototype program in pro...</td>\n",
       "      <td>To simulate the behaviour of portions of the d...</td>\n",
       "      <td>Defined in the Specification phase a prototype...</td>\n",
       "      <td>5.0</td>\n",
       "    </tr>\n",
       "    <tr>\n",
       "      <th>4</th>\n",
       "      <td>0</td>\n",
       "      <td>What is the role of a prototype program in pro...</td>\n",
       "      <td>To simulate the behaviour of portions of the d...</td>\n",
       "      <td>It is used to let the users have a first idea ...</td>\n",
       "      <td>3.0</td>\n",
       "    </tr>\n",
       "    <tr>\n",
       "      <th>...</th>\n",
       "      <td>...</td>\n",
       "      <td>...</td>\n",
       "      <td>...</td>\n",
       "      <td>...</td>\n",
       "      <td>...</td>\n",
       "    </tr>\n",
       "    <tr>\n",
       "      <th>5914</th>\n",
       "      <td>163</td>\n",
       "      <td>What data structure is more appropriate for sc...</td>\n",
       "      <td>a queue otherwise some things would never be p...</td>\n",
       "      <td>a queue</td>\n",
       "      <td>5.0</td>\n",
       "    </tr>\n",
       "    <tr>\n",
       "      <th>5915</th>\n",
       "      <td>163</td>\n",
       "      <td>What data structure is more appropriate for sc...</td>\n",
       "      <td>a queue otherwise some things would never be p...</td>\n",
       "      <td>Queue</td>\n",
       "      <td>5.0</td>\n",
       "    </tr>\n",
       "    <tr>\n",
       "      <th>5916</th>\n",
       "      <td>163</td>\n",
       "      <td>What data structure is more appropriate for sc...</td>\n",
       "      <td>a queue otherwise some things would never be p...</td>\n",
       "      <td>i would say that a queue is better because the...</td>\n",
       "      <td>5.0</td>\n",
       "    </tr>\n",
       "    <tr>\n",
       "      <th>5917</th>\n",
       "      <td>163</td>\n",
       "      <td>What data structure is more appropriate for sc...</td>\n",
       "      <td>a queue otherwise some things would never be p...</td>\n",
       "      <td>a queue because you want the jobs to execute i...</td>\n",
       "      <td>5.0</td>\n",
       "    </tr>\n",
       "    <tr>\n",
       "      <th>5918</th>\n",
       "      <td>163</td>\n",
       "      <td>What data structure is more appropriate for sc...</td>\n",
       "      <td>a queue otherwise some things would never be p...</td>\n",
       "      <td>queue</td>\n",
       "      <td>5.0</td>\n",
       "    </tr>\n",
       "  </tbody>\n",
       "</table>\n",
       "<p>5919 rows × 5 columns</p>\n",
       "</div>"
      ],
      "text/plain": [
       "       id                                           question  \\\n",
       "0       0  What is the role of a prototype program in pro...   \n",
       "1       0  What is the role of a prototype program in pro...   \n",
       "2       0  What is the role of a prototype program in pro...   \n",
       "3       0  What is the role of a prototype program in pro...   \n",
       "4       0  What is the role of a prototype program in pro...   \n",
       "...   ...                                                ...   \n",
       "5914  163  What data structure is more appropriate for sc...   \n",
       "5915  163  What data structure is more appropriate for sc...   \n",
       "5916  163  What data structure is more appropriate for sc...   \n",
       "5917  163  What data structure is more appropriate for sc...   \n",
       "5918  163  What data structure is more appropriate for sc...   \n",
       "\n",
       "                                              refanswer  \\\n",
       "0     To simulate the behaviour of portions of the d...   \n",
       "1     To simulate the behaviour of portions of the d...   \n",
       "2     To simulate the behaviour of portions of the d...   \n",
       "3     To simulate the behaviour of portions of the d...   \n",
       "4     To simulate the behaviour of portions of the d...   \n",
       "...                                                 ...   \n",
       "5914  a queue otherwise some things would never be p...   \n",
       "5915  a queue otherwise some things would never be p...   \n",
       "5916  a queue otherwise some things would never be p...   \n",
       "5917  a queue otherwise some things would never be p...   \n",
       "5918  a queue otherwise some things would never be p...   \n",
       "\n",
       "                                                 answer  score_avg  \n",
       "0     High risk problems are address in the prototyp...        3.5  \n",
       "1     To simulate portions of the desired final prod...        5.0  \n",
       "2     A prototype program simulates the behaviors of...        4.0  \n",
       "3     Defined in the Specification phase a prototype...        5.0  \n",
       "4     It is used to let the users have a first idea ...        3.0  \n",
       "...                                                 ...        ...  \n",
       "5914                                            a queue        5.0  \n",
       "5915                                              Queue        5.0  \n",
       "5916  i would say that a queue is better because the...        5.0  \n",
       "5917  a queue because you want the jobs to execute i...        5.0  \n",
       "5918                                              queue        5.0  \n",
       "\n",
       "[5919 rows x 5 columns]"
      ]
     },
     "execution_count": 116,
     "metadata": {},
     "output_type": "execute_result"
    }
   ],
   "source": [
    "final_df_ = pd.read_csv(\"data.csv\")\n",
    "final_df_"
   ]
  },
  {
   "cell_type": "code",
   "execution_count": 132,
   "metadata": {},
   "outputs": [
    {
     "name": "stdout",
     "output_type": "stream",
     "text": [
      "question :  What is the role of a prototype program in problem solving?\n",
      "ref_answer :  To simulate the behaviour of portions of the desired software product. \n",
      "student_answer :  High risk problems are address in the prototype program to make sure that the program is feasible.  A prototype may also be used to show a company that the software can be possibly programmed.  \n",
      "score :  3.5\n"
     ]
    }
   ],
   "source": [
    "print(\"question : \", final_df.loc[0,\"question\"].values[0])\n",
    "print(\"ref_answer : \", final_df.loc[0, \"refanswer\"].values[0])\n",
    "print(\"student_answer : \", final_df.loc[0, \"answer\"].values[0])\n",
    "print(\"score : \", final_df.loc[0, \"score_avg\"].values[0])"
   ]
  },
  {
   "cell_type": "code",
   "execution_count": null,
   "metadata": {},
   "outputs": [],
   "source": [
    "result = get_completion(query='''Lieber Thomas!\n",
    "Jetzt bist du weit weg! Ich bin sehr unglücklich! Wie geht es dir in Hamburg? Hast du nette Kollegen in der Bank? Ist der Chef nett? Hast du schon eine Wohnung? Ist die Wohnung teuer? Ich arbeite schon zwei Wochen im Goethe-Gymnasium in München.\n",
    "\n",
    "Die Kollegen und Kolleginnen sind sehr freundlich. Die Schülerinnen und Schüler sind auch sehr nett. München ist schön! Das Wetter ist gut. Aber meine Katze \"Mimi\" ist krank! Das ist schrecklich. Heute Abend gehe ich ins Theater.\n",
    "\n",
    "Herzliche Grüße''', model=model, tokenizer=tokenizer)\n",
    "print(result)It is not able to translate the german to english "
   ]
  }
 ],
 "metadata": {
  "kernelspec": {
   "display_name": "Python 3",
   "language": "python",
   "name": "python3"
  },
  "language_info": {
   "codemirror_mode": {
    "name": "ipython",
    "version": 3
   },
   "file_extension": ".py",
   "mimetype": "text/x-python",
   "name": "python",
   "nbconvert_exporter": "python",
   "pygments_lexer": "ipython3",
   "version": "3.10.6"
  }
 },
 "nbformat": 4,
 "nbformat_minor": 2
}
